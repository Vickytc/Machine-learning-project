{
 "cells": [
  {
   "cell_type": "markdown",
   "metadata": {
    "jp-MarkdownHeadingCollapsed": true
   },
   "source": [
    "# Assignment 2: Predict the Rating of Movies Extracted from the TMDB Database.\n",
    "\n",
    "### Name: Luxi Bai\n",
    "### ID: 1527822"
   ]
  },
  {
   "cell_type": "markdown",
   "metadata": {},
   "source": [
    "# 1 Read Data and Prepare for next Steps"
   ]
  },
  {
   "cell_type": "code",
   "execution_count": 1,
   "metadata": {},
   "outputs": [],
   "source": [
    "import pandas as pd\n",
    "import numpy as np\n",
    "from datetime import datetime\n",
    "import warnings\n",
    "import scipy\n",
    "from scipy.sparse import vstack\n",
    "import matplotlib.pyplot as plt\n",
    "from sklearn.preprocessing import LabelEncoder\n",
    "from sklearn.ensemble import RandomForestClassifier\n",
    "from sklearn.neural_network import MLPClassifier\n",
    "from sklearn.neighbors import KNeighborsClassifier\n",
    "from sklearn.semi_supervised import SelfTrainingClassifier\n",
    "from sklearn.metrics import classification_report\n",
    "from sklearn.metrics import accuracy_score, precision_score, recall_score, f1_score\n",
    "from sklearn.feature_selection import SelectKBest, f_classif, mutual_info_classif, chi2\n",
    "from sklearn.metrics import log_loss"
   ]
  },
  {
   "cell_type": "code",
   "execution_count": 2,
   "metadata": {},
   "outputs": [
    {
     "name": "stderr",
     "output_type": "stream",
     "text": [
      "C:\\Users\\ASUS\\AppData\\Local\\Temp\\ipykernel_34056\\3187181068.py:5: DtypeWarning: Columns (2) have mixed types. Specify dtype option on import or set low_memory=False.\n",
      "  unlabelled = pd.read_csv(\"A2-Data_files/TMDB_unlabelled.csv\")\n"
     ]
    }
   ],
   "source": [
    "# read files\n",
    "train = pd.read_csv(\"A2-Data_files/TMDB_train.csv\")\n",
    "evaluate = pd.read_csv(\"A2-Data_files/TMDB_evaluate.csv\")\n",
    "test = pd.read_csv(\"A2-Data_files/TMDB_test.csv\")\n",
    "unlabelled = pd.read_csv(\"A2-Data_files/TMDB_unlabelled.csv\")\n",
    "\n",
    "\n",
    "no_text_features = ['release_year','runtime','budget','revenue','adult','original_language','popularity',\n",
    "                        'genre_Action','genre_Adventure','genre_Animation','genre_Comedy','genre_Crime','genre_Documentary','genre_Drama','genre_Family',\n",
    "                        'genre_Fantasy','genre_History','genre_Horror','genre_Music','genre_Mystery','genre_Romance','genre_Science Fiction',\n",
    "                        'genre_TV Movie','genre_Thriller','genre_War','genre_Western','product_of_Canada','product_of_France','product_of_Germany',\n",
    "                        'product_of_India','product_of_Italy','product_of_Japan','product_of_Spain','product_of_UK','product_of_USA','product_of_other_countries',\n",
    "                        'vote_count']"
   ]
  },
  {
   "cell_type": "code",
   "execution_count": 3,
   "metadata": {},
   "outputs": [
    {
     "name": "stdout",
     "output_type": "stream",
     "text": [
      "(100000, 44)\n",
      "(20000, 44)\n",
      "(20000, 42)\n"
     ]
    }
   ],
   "source": [
    "# change feature \"original_language\" from text feature to numeric feature\n",
    "from sklearn.preprocessing import LabelEncoder\n",
    "\n",
    "encoder = LabelEncoder()\n",
    "encoder.fit(train['original_language'].to_list() + evaluate['original_language'].to_list() + test['original_language'].to_list())\n",
    "\n",
    "# print(encoder.classes_)\n",
    "train['original_language'] = encoder.transform(train['original_language'])\n",
    "evaluate['original_language'] = encoder.transform(evaluate['original_language'])\n",
    "test['original_language'] = encoder.transform(test['original_language'])\n",
    "\n",
    "# check the shape of three datasets\n",
    "print(train.shape)\n",
    "print(evaluate.shape)\n",
    "print(test.shape)\n",
    "# print(unlabelled.shape)"
   ]
  },
  {
   "cell_type": "markdown",
   "metadata": {},
   "source": [
    "# 2 Train and Evaluate Supervised Methods of RF, MLP and KNN"
   ]
  },
  {
   "cell_type": "markdown",
   "metadata": {},
   "source": [
    "### 2.1 Define a function to train and evaluate three supervised models"
   ]
  },
  {
   "cell_type": "code",
   "execution_count": 4,
   "metadata": {},
   "outputs": [],
   "source": [
    "from sklearn.ensemble import RandomForestClassifier\n",
    "from sklearn.neural_network import MLPClassifier\n",
    "from sklearn.neighbors import KNeighborsClassifier\n",
    "from sklearn.tree import DecisionTreeClassifier, DecisionTreeRegressor\n",
    "from sklearn.metrics import classification_report\n",
    "from sklearn.metrics import accuracy_score, precision_score, recall_score, f1_score\n",
    "\n",
    "# define a function to train and evaluate three supervised models\n",
    "def test_diff_cls(x_train, y_train, x_eval, y_eval):\n",
    "    classifiers = {\n",
    "        \"Random Forest\": RandomForestClassifier(n_estimators=180, max_features=\"log2\", n_jobs=-1, random_state=700, oob_score=True), # n_estimators=180, max_features=20, max_depth=30, min_samples_leaf=9,\n",
    "        \"Multi-Layer Perceptron\": MLPClassifier(max_iter=100,hidden_layer_sizes=100, random_state=1000),  # hidden_layer_sizes defualt=100,max_iter=200\n",
    "        \"KNN\": KNeighborsClassifier(n_neighbors=5,algorithm=\"kd_tree\", n_jobs=-1)   # algorithm:auto\\ball_tree\\kd_tree\\brute,default=auto\n",
    "    }\n",
    "    \n",
    "\n",
    "    for name, classifier in classifiers.items():\n",
    "        classifier.fit(x_train, y_train)\n",
    "        y_pred_eval = classifier.predict(x_eval)\n",
    "\n",
    "        accuracy_eval = accuracy_score(y_eval, y_pred_eval)\n",
    "        precision_eval = precision_score(y_eval, y_pred_eval, average=\"macro\")\n",
    "        recall_eval = recall_score(y_eval, y_pred_eval, average=\"macro\")\n",
    "        f1_eval = f1_score(y_eval, y_pred_eval, average=\"macro\")\n",
    "\n",
    "        print(\"===========================================================\")\n",
    "        print(f\"{name} :\")\n",
    "        print(f\"    Accuracy: {accuracy_eval}\")\n",
    "        print(f\"    precision: {precision_eval}\")\n",
    "        print(f\"    recall: {recall_eval}\")\n",
    "        print(f\"    f1: {f1_eval}\")\n",
    "        print(\"===========================================================\")"
   ]
  },
  {
   "cell_type": "markdown",
   "metadata": {},
   "source": [
    "### 2.2 The Training Result of Non Text Feature"
   ]
  },
  {
   "cell_type": "code",
   "execution_count": 5,
   "metadata": {},
   "outputs": [],
   "source": [
    "X_train_without_text = train[no_text_features]\n",
    "y_train_rating = train['average_rate']\n",
    "y_train_cate = train['rate_category']\n",
    "\n",
    "X_eval_without_text = evaluate[no_text_features]\n",
    "y_eval_rating = evaluate['average_rate']\n",
    "y_eval_cate = evaluate['rate_category']\n",
    "\n",
    "X_test_without_text = test[no_text_features]"
   ]
  },
  {
   "cell_type": "code",
   "execution_count": 6,
   "metadata": {},
   "outputs": [
    {
     "name": "stdout",
     "output_type": "stream",
     "text": [
      "===========================================================\n",
      "Random Forest :\n",
      "    Accuracy: 0.69255\n",
      "    precision: 0.6995095907746968\n",
      "    recall: 0.6788601737294879\n",
      "    f1: 0.6870389755897216\n",
      "===========================================================\n"
     ]
    },
    {
     "name": "stderr",
     "output_type": "stream",
     "text": [
      "d:\\Python\\python3.12.2\\Lib\\site-packages\\sklearn\\neural_network\\_multilayer_perceptron.py:691: ConvergenceWarning: Stochastic Optimizer: Maximum iterations (100) reached and the optimization hasn't converged yet.\n",
      "  warnings.warn(\n"
     ]
    },
    {
     "name": "stdout",
     "output_type": "stream",
     "text": [
      "===========================================================\n",
      "Multi-Layer Perceptron :\n",
      "    Accuracy: 0.33115\n",
      "    precision: 0.3174208994631766\n",
      "    recall: 0.2719471040506279\n",
      "    f1: 0.2565546468931361\n",
      "===========================================================\n",
      "===========================================================\n",
      "KNN :\n",
      "    Accuracy: 0.4181\n",
      "    precision: 0.4094856063783501\n",
      "    recall: 0.3952888998071618\n",
      "    f1: 0.39455472190823593\n",
      "===========================================================\n"
     ]
    }
   ],
   "source": [
    "test_diff_cls(X_train_without_text, y_train_cate, X_eval_without_text, y_eval_cate)"
   ]
  },
  {
   "cell_type": "markdown",
   "metadata": {},
   "source": [
    "### 2.3 The Training Result of BoW"
   ]
  },
  {
   "cell_type": "code",
   "execution_count": 7,
   "metadata": {},
   "outputs": [],
   "source": [
    "import scipy\n",
    "X_train_text_concat = scipy.sparse.load_npz('A2-Data_files/TMDB_text_features_bow/TMDB_text_features_bow/train_concat_bow.npz')\n",
    "X_eval_text_concat = scipy.sparse.load_npz('A2-Data_files/TMDB_text_features_bow/TMDB_text_features_bow/eval_concat_bow.npz')"
   ]
  },
  {
   "cell_type": "code",
   "execution_count": 8,
   "metadata": {},
   "outputs": [
    {
     "name": "stdout",
     "output_type": "stream",
     "text": [
      "===========================================================\n",
      "Random Forest :\n",
      "    Accuracy: 0.64825\n",
      "    precision: 0.8013241880455929\n",
      "    recall: 0.6024715773554612\n",
      "    f1: 0.6575321283506254\n",
      "===========================================================\n"
     ]
    },
    {
     "name": "stderr",
     "output_type": "stream",
     "text": [
      "d:\\Python\\python3.12.2\\Lib\\site-packages\\sklearn\\neural_network\\_multilayer_perceptron.py:691: ConvergenceWarning: Stochastic Optimizer: Maximum iterations (100) reached and the optimization hasn't converged yet.\n",
      "  warnings.warn(\n",
      "d:\\Python\\python3.12.2\\Lib\\site-packages\\sklearn\\neighbors\\_base.py:584: UserWarning: cannot use tree with sparse input: using brute force\n",
      "  warnings.warn(\"cannot use tree with sparse input: using brute force\")\n"
     ]
    },
    {
     "name": "stdout",
     "output_type": "stream",
     "text": [
      "===========================================================\n",
      "Multi-Layer Perceptron :\n",
      "    Accuracy: 0.54715\n",
      "    precision: 0.5297004133987068\n",
      "    recall: 0.5248951961901245\n",
      "    f1: 0.5270713562801443\n",
      "===========================================================\n",
      "===========================================================\n",
      "KNN :\n",
      "    Accuracy: 0.34355\n",
      "    precision: 0.3271160094571895\n",
      "    recall: 0.30418798473118425\n",
      "    f1: 0.30103968982012047\n",
      "===========================================================\n"
     ]
    }
   ],
   "source": [
    "test_diff_cls(X_train_text_concat, y_train_cate, X_eval_text_concat, y_eval_cate)"
   ]
  },
  {
   "cell_type": "markdown",
   "metadata": {},
   "source": [
    "### 2.4 The Training Result of TF-IDF"
   ]
  },
  {
   "cell_type": "code",
   "execution_count": 9,
   "metadata": {},
   "outputs": [],
   "source": [
    "X_train_text_concat = scipy.sparse.load_npz('A2-Data_files/TMDB_text_features_tfidf/TMDB_text_features_tfidf/train_concat_tfidf.npz')\n",
    "X_eval_text_concat = scipy.sparse.load_npz('A2-Data_files/TMDB_text_features_tfidf/TMDB_text_features_tfidf/eval_concat_tfidf.npz')"
   ]
  },
  {
   "cell_type": "code",
   "execution_count": 10,
   "metadata": {},
   "outputs": [
    {
     "name": "stdout",
     "output_type": "stream",
     "text": [
      "===========================================================\n",
      "Random Forest :\n",
      "    Accuracy: 0.6458\n",
      "    precision: 0.8060328520524579\n",
      "    recall: 0.6009310025549893\n",
      "    f1: 0.6575106383795429\n",
      "===========================================================\n"
     ]
    },
    {
     "name": "stderr",
     "output_type": "stream",
     "text": [
      "d:\\Python\\python3.12.2\\Lib\\site-packages\\sklearn\\neural_network\\_multilayer_perceptron.py:691: ConvergenceWarning: Stochastic Optimizer: Maximum iterations (100) reached and the optimization hasn't converged yet.\n",
      "  warnings.warn(\n",
      "d:\\Python\\python3.12.2\\Lib\\site-packages\\sklearn\\neighbors\\_base.py:584: UserWarning: cannot use tree with sparse input: using brute force\n",
      "  warnings.warn(\"cannot use tree with sparse input: using brute force\")\n"
     ]
    },
    {
     "name": "stdout",
     "output_type": "stream",
     "text": [
      "===========================================================\n",
      "Multi-Layer Perceptron :\n",
      "    Accuracy: 0.5222\n",
      "    precision: 0.5114002306814585\n",
      "    recall: 0.5070853152211016\n",
      "    f1: 0.5087908398149513\n",
      "===========================================================\n",
      "===========================================================\n",
      "KNN :\n",
      "    Accuracy: 0.35675\n",
      "    precision: 0.3409384659864582\n",
      "    recall: 0.32321211803758604\n",
      "    f1: 0.3231807757386523\n",
      "===========================================================\n"
     ]
    }
   ],
   "source": [
    "test_diff_cls(X_train_text_concat, y_train_cate, X_eval_text_concat, y_eval_cate)"
   ]
  },
  {
   "cell_type": "markdown",
   "metadata": {},
   "source": [
    "### 2.5 The Training Result of All Features (Text and Non-text)"
   ]
  },
  {
   "cell_type": "code",
   "execution_count": 11,
   "metadata": {},
   "outputs": [],
   "source": [
    "import numpy as np\n",
    "X_train_all = np.concatenate(( X_train_text_concat.toarray(), X_train_without_text.to_numpy()), axis=1)\n",
    "X_eval_all = np.concatenate(( X_eval_text_concat.toarray(), X_eval_without_text.to_numpy()), axis=1)"
   ]
  },
  {
   "cell_type": "code",
   "execution_count": 12,
   "metadata": {},
   "outputs": [
    {
     "name": "stdout",
     "output_type": "stream",
     "text": [
      "===========================================================\n",
      "Random Forest :\n",
      "    Accuracy: 0.67535\n",
      "    precision: 0.7718367954016309\n",
      "    recall: 0.6371711094052491\n",
      "    f1: 0.677376999819599\n",
      "===========================================================\n"
     ]
    },
    {
     "name": "stderr",
     "output_type": "stream",
     "text": [
      "d:\\Python\\python3.12.2\\Lib\\site-packages\\sklearn\\neural_network\\_multilayer_perceptron.py:691: ConvergenceWarning: Stochastic Optimizer: Maximum iterations (100) reached and the optimization hasn't converged yet.\n",
      "  warnings.warn(\n"
     ]
    },
    {
     "name": "stdout",
     "output_type": "stream",
     "text": [
      "===========================================================\n",
      "Multi-Layer Perceptron :\n",
      "    Accuracy: 0.3558\n",
      "    precision: 0.36621805962910664\n",
      "    recall: 0.32662449824915385\n",
      "    f1: 0.29389458687452935\n",
      "===========================================================\n",
      "===========================================================\n",
      "KNN :\n",
      "    Accuracy: 0.4173\n",
      "    precision: 0.40843002935912703\n",
      "    recall: 0.39450317560560905\n",
      "    f1: 0.3938926542659717\n",
      "===========================================================\n"
     ]
    }
   ],
   "source": [
    "test_diff_cls(X_train_all, y_train_cate, X_eval_all, y_eval_cate)"
   ]
  },
  {
   "cell_type": "markdown",
   "metadata": {
    "notebookRunGroups": {
     "groupValue": "1"
    }
   },
   "source": [
    "# 3 Baseline models of Zero-R and Random"
   ]
  },
  {
   "cell_type": "markdown",
   "metadata": {},
   "source": [
    "### 3.1 Zero-R"
   ]
  },
  {
   "cell_type": "code",
   "execution_count": 13,
   "metadata": {
    "notebookRunGroups": {
     "groupValue": "1"
    }
   },
   "outputs": [
    {
     "name": "stdout",
     "output_type": "stream",
     "text": [
      "Zero Rule baseline\n",
      "              precision    recall  f1-score   support\n",
      "\n",
      "           0       0.00      0.00      0.00      2184\n",
      "           1       0.00      0.00      0.00      2829\n",
      "           2       0.00      0.00      0.00      5119\n",
      "           3       0.27      1.00      0.43      5420\n",
      "           4       0.00      0.00      0.00      2791\n",
      "           5       0.00      0.00      0.00      1657\n",
      "\n",
      "    accuracy                           0.27     20000\n",
      "   macro avg       0.05      0.17      0.07     20000\n",
      "weighted avg       0.07      0.27      0.12     20000\n",
      "\n"
     ]
    },
    {
     "name": "stderr",
     "output_type": "stream",
     "text": [
      "d:\\Python\\python3.12.2\\Lib\\site-packages\\sklearn\\metrics\\_classification.py:1509: UndefinedMetricWarning: Precision is ill-defined and being set to 0.0 in labels with no predicted samples. Use `zero_division` parameter to control this behavior.\n",
      "  _warn_prf(average, modifier, f\"{metric.capitalize()} is\", len(result))\n",
      "d:\\Python\\python3.12.2\\Lib\\site-packages\\sklearn\\metrics\\_classification.py:1509: UndefinedMetricWarning: Precision is ill-defined and being set to 0.0 in labels with no predicted samples. Use `zero_division` parameter to control this behavior.\n",
      "  _warn_prf(average, modifier, f\"{metric.capitalize()} is\", len(result))\n",
      "d:\\Python\\python3.12.2\\Lib\\site-packages\\sklearn\\metrics\\_classification.py:1509: UndefinedMetricWarning: Precision is ill-defined and being set to 0.0 in labels with no predicted samples. Use `zero_division` parameter to control this behavior.\n",
      "  _warn_prf(average, modifier, f\"{metric.capitalize()} is\", len(result))\n"
     ]
    }
   ],
   "source": [
    "from sklearn.dummy import DummyClassifier\n",
    "\n",
    "ZEROclf = DummyClassifier(strategy=\"most_frequent\")\n",
    "ZEROclf.fit(X_train_all, y_train_cate)\n",
    "\n",
    "y_pred_eval = ZEROclf.predict(X_eval_all)\n",
    "\n",
    "\n",
    "print(\"Zero Rule baseline\")\n",
    "print(classification_report(y_eval_cate, y_pred_eval))"
   ]
  },
  {
   "cell_type": "markdown",
   "metadata": {},
   "source": [
    "### 3.2 Random"
   ]
  },
  {
   "cell_type": "code",
   "execution_count": 14,
   "metadata": {
    "notebookRunGroups": {
     "groupValue": "1"
    },
    "scrolled": true
   },
   "outputs": [
    {
     "name": "stdout",
     "output_type": "stream",
     "text": [
      "Random baseline\n",
      "              precision    recall  f1-score   support\n",
      "\n",
      "           0       0.10      0.16      0.12      2184\n",
      "           1       0.14      0.16      0.15      2829\n",
      "           2       0.25      0.16      0.20      5119\n",
      "           3       0.25      0.16      0.20      5420\n",
      "           4       0.14      0.17      0.16      2791\n",
      "           5       0.08      0.17      0.11      1657\n",
      "\n",
      "    accuracy                           0.16     20000\n",
      "   macro avg       0.16      0.16      0.16     20000\n",
      "weighted avg       0.19      0.16      0.17     20000\n",
      "\n",
      "Random baseline accuracy 0.16645000000000001\n"
     ]
    }
   ],
   "source": [
    "RANDOMclf = DummyClassifier(strategy=\"uniform\")\n",
    "\n",
    "RANDOMclf.fit(X_train_all, y_train_cate)\n",
    "y_pred_eval = RANDOMclf.predict(X_eval_all)\n",
    "\n",
    "\n",
    "print(\"Random baseline\")\n",
    "print(classification_report(y_eval_cate, y_pred_eval))\n",
    "\n",
    "random_scores = []\n",
    "for _ in range(10):\n",
    "    RANDOMclf.fit(X_train_all, y_train_cate)\n",
    "    random_scores.append(RANDOMclf.score(X_eval_all, y_eval_cate))\n",
    "print(\"Random baseline accuracy\", sum(random_scores) / 10.)"
   ]
  },
  {
   "cell_type": "markdown",
   "metadata": {},
   "source": [
    "# 4 Feature Selection"
   ]
  },
  {
   "cell_type": "markdown",
   "metadata": {},
   "source": [
    "Select best top N non-text features, and result shows that more features make better model. Therefore, all features are necessary."
   ]
  },
  {
   "cell_type": "code",
   "execution_count": 15,
   "metadata": {},
   "outputs": [
    {
     "name": "stdout",
     "output_type": "stream",
     "text": [
      "\n",
      "Top 40 Features:\n",
      "Selected Features: Index(['release_year', 'runtime', 'budget', 'revenue', 'adult',\n",
      "       'original_language', 'popularity', 'genre_Action', 'genre_Adventure',\n",
      "       'genre_Animation', 'genre_Comedy', 'genre_Crime', 'genre_Documentary',\n",
      "       'genre_Drama', 'genre_Family', 'genre_Fantasy', 'genre_History',\n",
      "       'genre_Horror', 'genre_Music', 'genre_Mystery', 'genre_Romance',\n",
      "       'genre_Science Fiction', 'genre_TV Movie', 'genre_Thriller',\n",
      "       'genre_War', 'genre_Western', 'product_of_Canada', 'product_of_France',\n",
      "       'product_of_Germany', 'product_of_India', 'product_of_Italy',\n",
      "       'product_of_Japan', 'product_of_Spain', 'product_of_UK',\n",
      "       'product_of_USA', 'product_of_other_countries', 'vote_count'],\n",
      "      dtype='object')\n",
      "Random Forest Accuracy: 0.6925\n",
      "Multi-Layer Perceptron Accuracy: 0.3311\n",
      "KNN Accuracy: 0.4181\n",
      "\n",
      "Top 30 Features:\n",
      "Selected Features: Index(['release_year', 'runtime', 'budget', 'revenue', 'adult',\n",
      "       'original_language', 'popularity', 'genre_Adventure', 'genre_Animation',\n",
      "       'genre_Comedy', 'genre_Crime', 'genre_Documentary', 'genre_Drama',\n",
      "       'genre_Family', 'genre_Fantasy', 'genre_History', 'genre_Horror',\n",
      "       'genre_Music', 'genre_Mystery', 'genre_Romance',\n",
      "       'genre_Science Fiction', 'genre_TV Movie', 'genre_Thriller',\n",
      "       'product_of_France', 'product_of_Germany', 'product_of_Spain',\n",
      "       'product_of_UK', 'product_of_USA', 'product_of_other_countries',\n",
      "       'vote_count'],\n",
      "      dtype='object')\n",
      "Random Forest Accuracy: 0.6917\n",
      "Multi-Layer Perceptron Accuracy: 0.2989\n",
      "KNN Accuracy: 0.4174\n",
      "\n",
      "Top 20 Features:\n",
      "Selected Features: Index(['release_year', 'runtime', 'budget', 'revenue', 'adult',\n",
      "       'original_language', 'popularity', 'genre_Animation', 'genre_Comedy',\n",
      "       'genre_Crime', 'genre_Documentary', 'genre_Drama', 'genre_History',\n",
      "       'genre_Horror', 'genre_Music', 'genre_Thriller', 'product_of_Japan',\n",
      "       'product_of_USA', 'product_of_other_countries', 'vote_count'],\n",
      "      dtype='object')\n",
      "Random Forest Accuracy: 0.6882\n",
      "Multi-Layer Perceptron Accuracy: 0.3157\n",
      "KNN Accuracy: 0.4156\n",
      "\n",
      "Top 10 Features:\n",
      "Selected Features: Index(['release_year', 'runtime', 'budget', 'revenue', 'adult',\n",
      "       'original_language', 'popularity', 'genre_Drama', 'genre_Horror',\n",
      "       'vote_count'],\n",
      "      dtype='object')\n",
      "Random Forest Accuracy: 0.6711\n",
      "Multi-Layer Perceptron Accuracy: 0.3050\n",
      "KNN Accuracy: 0.4121\n",
      "\n",
      "Top 5 Features:\n",
      "Selected Features: Index(['release_year', 'runtime', 'adult', 'popularity', 'vote_count'], dtype='object')\n",
      "Random Forest Accuracy: 0.6389\n",
      "Multi-Layer Perceptron Accuracy: 0.2915\n",
      "KNN Accuracy: 0.4014\n",
      "\n",
      "Top 3 Features:\n",
      "Selected Features: Index(['runtime', 'popularity', 'vote_count'], dtype='object')\n",
      "Random Forest Accuracy: 0.5662\n",
      "Multi-Layer Perceptron Accuracy: 0.3154\n",
      "KNN Accuracy: 0.3641\n",
      "\n",
      "Top 1 Features:\n",
      "Selected Features: Index(['vote_count'], dtype='object')\n",
      "Random Forest Accuracy: 0.3013\n",
      "Multi-Layer Perceptron Accuracy: 0.2970\n",
      "KNN Accuracy: 0.2624\n"
     ]
    }
   ],
   "source": [
    "from sklearn.feature_selection import SelectKBest, f_classif, mutual_info_classif, chi2\n",
    "import warnings\n",
    "\n",
    "# Ignore all warnings\n",
    "warnings.filterwarnings(\"ignore\")\n",
    "\n",
    "# Initialize classifiers\n",
    "classifiers = {\n",
    "    \"Random Forest\": RandomForestClassifier(n_estimators=180, max_features=\"log2\", n_jobs=-1, random_state=700),  # n_estimators de=100\n",
    "    \"Multi-Layer Perceptron\": MLPClassifier(max_iter=100,hidden_layer_sizes=100, random_state=1000),  # hidden_layer_sizes defualt=100,max_iter=200\n",
    "    \"KNN\": KNeighborsClassifier(n_neighbors=5,algorithm=\"kd_tree\", n_jobs=-1)   # algorithm:auto\\ball_tree\\kd_tree\\brute,default=auto\n",
    "}\n",
    "\n",
    "# Define the number of features to select\n",
    "k_values = [40, 30, 20, 10, 5,3,1]\n",
    "\n",
    "for k in k_values:\n",
    "    print(f\"\\nTop {k} Features:\")\n",
    "    \n",
    "    # Initialize SelectKBest with ANOVA F-value as the scoring function\n",
    "    selector = SelectKBest(score_func=mutual_info_classif, k=k)\n",
    "    \n",
    "    # Fit selector to training data and transform X1_train\n",
    "    # X1_train_selected = selector.fit_transform(X_train_without_text, y_train_cate)  # X_train_without_pred\n",
    "    X1_train_selected = selector.fit_transform(X_train_without_text, y_train_cate)\n",
    "    \n",
    "    # Get the indices of the selected features\n",
    "    selected_feature_indices = selector.get_support(indices=True)\n",
    "    \n",
    "    # Get the names of the selected features\n",
    "    selected_feature_names = X_train_without_text.columns[selected_feature_indices]\n",
    "    print(\"Selected Features:\", selected_feature_names)\n",
    "    \n",
    "    # Evaluate classifiers using the selected features\n",
    "    for name, classifier in classifiers.items():\n",
    "        # Train classifier on selected features\n",
    "        classifier.fit(X1_train_selected, y_train_cate)\n",
    "        \n",
    "        # Transform X1_test using the same selected features\n",
    "        # X1_test_selected = X_eval_without_text.iloc[:, selected_feature_indices]\n",
    "        X1_test_selected = selector.transform(X_eval_without_text)\n",
    "        \n",
    "        # Predict labels for X1_test\n",
    "        y_pred = classifier.predict(X1_test_selected)\n",
    "        \n",
    "        # Calculate accuracy\n",
    "        accuracy = accuracy_score(y_eval_cate, y_pred)\n",
    "        print(f\"{name} Accuracy: {accuracy:.4f}\")\n"
   ]
  },
  {
   "cell_type": "markdown",
   "metadata": {},
   "source": [
    "# 5 Self Training with RF, MLP and KNN on All featues, BoW and TFIDF"
   ]
  },
  {
   "cell_type": "markdown",
   "metadata": {},
   "source": [
    "### 5.1 Pre-process unlabelled data because of some abnormal values"
   ]
  },
  {
   "cell_type": "code",
   "execution_count": 16,
   "metadata": {},
   "outputs": [
    {
     "data": {
      "text/plain": [
       "0         1979\n",
       "1         1979\n",
       "2         1928\n",
       "3         1979\n",
       "4         2010\n",
       "          ... \n",
       "254696    2012\n",
       "254697    2015\n",
       "254698    2012\n",
       "254699    2013\n",
       "254700    1977\n",
       "Name: release_year, Length: 254701, dtype: int32"
      ]
     },
     "execution_count": 16,
     "metadata": {},
     "output_type": "execute_result"
    }
   ],
   "source": [
    "import scipy\n",
    "import matplotlib.pyplot as plt\n",
    "import seaborn as sns\n",
    "from sklearn.preprocessing import LabelEncoder\n",
    "from datetime import datetime\n",
    "\n",
    "unlabelled = pd.read_csv(\"A2-Data_files/TMDB_unlabelled.csv\")\n",
    "\n",
    "unlabelled['release_year'] = unlabelled['release_year'].astype(str)\n",
    "\n",
    "def extract_year1(date_str):\n",
    "    try:\n",
    "        return str(datetime.strptime(date_str, \"%d/%m/%Y\").year)\n",
    "    except ValueError:\n",
    "        return date_str  \n",
    "\n",
    "def extract_year2(date_str):\n",
    "    try:\n",
    "        return str(datetime.strptime(date_str, \"%Y-%m-%d\").year)\n",
    "    except ValueError:\n",
    "        return date_str \n",
    "\n",
    "vectorized_extract_year1 = np.vectorize(extract_year1)\n",
    "vectorized_extract_year2 = np.vectorize(extract_year2)\n",
    "unlabelled['release_year'] = vectorized_extract_year1(unlabelled['release_year'])\n",
    "unlabelled['release_year'] = vectorized_extract_year2(unlabelled['release_year'])\n",
    "unlabelled['release_year'].astype(\"int\")"
   ]
  },
  {
   "cell_type": "markdown",
   "metadata": {},
   "source": [
    "### 5.2 Prepare training datasets of TFIDF/BoW/All features"
   ]
  },
  {
   "cell_type": "code",
   "execution_count": 17,
   "metadata": {},
   "outputs": [],
   "source": [
    "# TFIDF\n",
    "X_train_text_concat = scipy.sparse.load_npz('A2-Data_files/TMDB_text_features_tfidf/TMDB_text_features_tfidf/train_concat_tfidf.npz')\n",
    "X_eval_text_concat = scipy.sparse.load_npz('A2-Data_files/TMDB_text_features_tfidf/TMDB_text_features_tfidf/eval_concat_tfidf.npz')\n",
    "X_unlabel_text_concat = scipy.sparse.load_npz('A2-Data_files/TMDB_text_features_tfidf/TMDB_text_features_tfidf/unlabelled_concat_tfidf.npz')\n",
    "\n",
    "# BoW\n",
    "# X_train_text_concat = scipy.sparse.load_npz('A2-Data_files/TMDB_text_features_bow/TMDB_text_features_bow/train_concat_bow.npz')\n",
    "# X_eval_text_concat = scipy.sparse.load_npz('A2-Data_files/TMDB_text_features_bow/TMDB_text_features_bow/eval_concat_bow.npz')\n",
    "# X_unlabel_text_concat = scipy.sparse.load_npz('A2-Data_files/TMDB_text_features_bow/TMDB_text_features_bow/unlabelled_concat_bow.npz')\n",
    "\n",
    "# All features\n",
    "# X_train_text_concat = scipy.sparse.load_npz('A2-Data_files/TMDB_text_features_tfidf/TMDB_text_features_tfidf/train_concat_tfidf.npz')\n",
    "# X_eval_text_concat = scipy.sparse.load_npz('A2-Data_files/TMDB_text_features_tfidf/TMDB_text_features_tfidf/eval_concat_tfidf.npz')\n",
    "# X_unlabel_text_concat = scipy.sparse.load_npz('A2-Data_files/TMDB_text_features_tfidf/TMDB_text_features_tfidf/unlabelled_concat_tfidf.npz')\n",
    "# encoder = LabelEncoder()\n",
    "# encoder.fit(train['original_language'].to_list() + evaluate['original_language'].to_list() + test['original_language'].to_list() + unlabelled['original_language'].to_list())\n",
    "# unlabelled['original_language'] = encoder.transform(unlabelled['original_language'])\n",
    "\n",
    "# X_unlabel_without_text = unlabelled[no_text_features] # original_language\n",
    "\n",
    "# X_train_all = np.concatenate(( X_train_text_concat.toarray(), X_train_without_text.to_numpy()), axis=1)\n",
    "# X_eval_all = np.concatenate(( X_eval_text_concat.toarray(), X_eval_without_text.to_numpy()), axis=1)\n",
    "# X_unlabel_all = np.concatenate(( X_unlabel_text_concat.toarray(), X_unlabel_without_text.to_numpy()), axis=1)  # (254701, 1037)"
   ]
  },
  {
   "cell_type": "code",
   "execution_count": 19,
   "metadata": {},
   "outputs": [
    {
     "name": "stdout",
     "output_type": "stream",
     "text": [
      "354701 (354701, 1000) (100000, 1000)\n"
     ]
    }
   ],
   "source": [
    "from scipy.sparse import vstack\n",
    "# Bow and TFIDF\n",
    "all_used_data = vstack([X_train_text_concat, X_unlabel_text_concat])\n",
    "all_used_label = y_train_cate.to_list() + [-1] * (X_unlabel_text_concat.shape[0])\n",
    "print(len(all_used_label), all_used_data.shape, X_train_text_concat.shape)\n",
    "\n",
    "# All features\n",
    "# all_used_data = np.concatenate((X_train_all, X_unlabel_all), axis=0)\n",
    "# all_used_label = y_train_cate.to_list() + [-1] * (X_unlabel_all.shape[0])\n",
    "# print(len(all_used_label), all_used_data.shape, X_train_all.shape)\n",
    "# all_used_data.shape"
   ]
  },
  {
   "cell_type": "markdown",
   "metadata": {},
   "source": [
    "### 5.3 Define a self-learning function for three models: RF/MLP/KNN"
   ]
  },
  {
   "cell_type": "code",
   "execution_count": 20,
   "metadata": {},
   "outputs": [],
   "source": [
    "from sklearn.semi_supervised import SelfTrainingClassifier\n",
    "from sklearn.ensemble import RandomForestClassifier\n",
    "from sklearn.neural_network import MLPClassifier\n",
    "from sklearn.neighbors import KNeighborsClassifier\n",
    "from sklearn.metrics import classification_report\n",
    "\n",
    "# the function to train these three models\n",
    "def self_train_cls(x_train, y_train, x_eval, y_eval):\n",
    "    classifiers = {\n",
    "        \"Random Forest\": RandomForestClassifier(n_estimators=180, max_features=\"log2\", n_jobs=-1, random_state=700),  # n_estimators de=100\n",
    "        \"Multi-Layer Perceptron\": MLPClassifier(max_iter=100,hidden_layer_sizes=100, random_state=1000),  # hidden_layer_sizes defualt=100,max_iter=200\n",
    "        \"KNN\": KNeighborsClassifier(n_neighbors=5,algorithm=\"kd_tree\", n_jobs=-1)   # algorithm:auto\\ball_tree\\kd_tree\\brute,default=auto\n",
    "    }\n",
    "    \n",
    "\n",
    "    for name, classifier in classifiers.items():\n",
    "        # self_training_model = SelfTrainingClassifier(classifier, criterion='k_best', k_best=10000)\n",
    "        self_training_model = SelfTrainingClassifier(classifier, criterion='k_best', k_best=1000)\n",
    "        self_training_model.fit(x_train, y_train)\n",
    "        valid_pred = self_training_model.predict(x_eval)\n",
    "\n",
    "        accuracy_eval = accuracy_score(y_eval, valid_pred)\n",
    "        precision_eval = precision_score(y_eval, valid_pred, average=\"macro\")\n",
    "        recall_eval = recall_score(y_eval, valid_pred, average=\"macro\")\n",
    "        f1_eval = f1_score(y_eval, valid_pred, average=\"macro\")\n",
    "\n",
    "        print(\"===========================================================\")\n",
    "        print(f\"Self Training (Semi supervised Learning) of {name} :\")\n",
    "        print(f\"    Accuracy: {accuracy_eval}\")\n",
    "        print(f\"    precision: {precision_eval}\")\n",
    "        print(f\"    recall: {recall_eval}\")\n",
    "        print(f\"    f1: {f1_eval}\")\n",
    "        print(\"===========================================================\")"
   ]
  },
  {
   "cell_type": "markdown",
   "metadata": {},
   "source": [
    "### 5.4 Train models"
   ]
  },
  {
   "cell_type": "code",
   "execution_count": 21,
   "metadata": {},
   "outputs": [
    {
     "name": "stdout",
     "output_type": "stream",
     "text": [
      "===========================================================\n",
      "Self Training (Semi supervised Learning) of Random Forest :\n",
      "    Accuracy: 0.64955\n",
      "    precision: 0.8089081765957991\n",
      "    recall: 0.6028244582954366\n",
      "    f1: 0.6589450425994513\n",
      "===========================================================\n",
      "===========================================================\n",
      "Self Training (Semi supervised Learning) of Multi-Layer Perceptron :\n",
      "    Accuracy: 0.52495\n",
      "    precision: 0.5132096663626527\n",
      "    recall: 0.5075131492777252\n",
      "    f1: 0.5098511714923848\n",
      "===========================================================\n",
      "===========================================================\n",
      "Self Training (Semi supervised Learning) of KNN :\n",
      "    Accuracy: 0.35385\n",
      "    precision: 0.3379817095084406\n",
      "    recall: 0.3235416109611326\n",
      "    f1: 0.32208262267403404\n",
      "===========================================================\n"
     ]
    }
   ],
   "source": [
    "# BoW and TFIDF\n",
    "self_train_cls(all_used_data, all_used_label, X_eval_text_concat, y_eval_cate)\n",
    "\n",
    "# All features\n",
    "# self_train_cls(all_used_data, all_used_label, X_eval_all, y_eval_cate)"
   ]
  },
  {
   "cell_type": "markdown",
   "metadata": {},
   "source": [
    "# 6 Get Kaggle submission file test_predictions*.csv"
   ]
  },
  {
   "cell_type": "markdown",
   "metadata": {},
   "source": [
    "According to the experiments above, I finally choose RF as the best model to submit on Kaggle. Here I package it as a CSV file for submission."
   ]
  },
  {
   "cell_type": "code",
   "execution_count": 42,
   "metadata": {},
   "outputs": [],
   "source": [
    "X_train_without_text = train[no_text_features]\n",
    "y_train_rating = train['average_rate']\n",
    "y_train_cate = train['rate_category']\n",
    "\n",
    "X_eval_without_text = evaluate[no_text_features]\n",
    "y_eval_rating = evaluate['average_rate']\n",
    "y_eval_cate = evaluate['rate_category']\n",
    "\n",
    "X_test_without_text = test[no_text_features]"
   ]
  },
  {
   "cell_type": "code",
   "execution_count": 43,
   "metadata": {},
   "outputs": [],
   "source": [
    "# test\n",
    "X_test_text_concat = scipy.sparse.load_npz('A2-Data_files/TMDB_text_features_tfidf/TMDB_text_features_tfidf/test_concat_tfidf.npz')\n",
    "# BoW\n",
    "X_train_text_concat = scipy.sparse.load_npz('A2-Data_files/TMDB_text_features_bow/TMDB_text_features_bow/train_concat_bow.npz')\n",
    "# TFIDF\n",
    "X_train_text_concat = scipy.sparse.load_npz('A2-Data_files/TMDB_text_features_tfidf/TMDB_text_features_tfidf/train_concat_tfidf.npz')\n",
    "\n",
    "X_train_all = np.concatenate(( X_train_text_concat.toarray(), X_train_without_text.to_numpy()), axis=1)\n",
    "X_test_all = np.concatenate(( X_test_text_concat.toarray(), X_test_without_text.to_numpy()), axis=1)"
   ]
  },
  {
   "cell_type": "markdown",
   "metadata": {},
   "source": [
    "Train RF model for submission"
   ]
  },
  {
   "cell_type": "code",
   "execution_count": 46,
   "metadata": {},
   "outputs": [
    {
     "name": "stdout",
     "output_type": "stream",
     "text": [
      "              precision    recall  f1-score   support\n",
      "\n",
      "           0       0.11      0.10      0.11      2184\n",
      "           1       0.14      0.14      0.14      2829\n",
      "           2       0.26      0.26      0.26      5119\n",
      "           3       0.27      0.27      0.27      5420\n",
      "           4       0.14      0.15      0.15      2791\n",
      "           5       0.08      0.08      0.08      1657\n",
      "\n",
      "    accuracy                           0.20     20000\n",
      "   macro avg       0.17      0.17      0.17     20000\n",
      "weighted avg       0.20      0.20      0.20     20000\n",
      "\n"
     ]
    }
   ],
   "source": [
    "from sklearn.semi_supervised import SelfTrainingClassifier\n",
    "from sklearn.ensemble import RandomForestClassifier\n",
    "from sklearn.metrics import classification_report\n",
    "from sklearn.neural_network import MLPClassifier\n",
    "from sklearn.neighbors import KNeighborsClassifier\n",
    "\n",
    "# RFclf = RandomForestClassifier(n_estimators=180, max_features=\"log2\", random_state=700)\n",
    "MLPclf = MLPClassifier(max_iter=100,hidden_layer_sizes=100, random_state=1000)  # hidden_layer_sizes defualt=100,max_iter=200\n",
    "# RFclf = KNeighborsClassifier(n_neighbors=5,algorithm=\"kd_tree\", n_jobs=-1)   # algorithm:auto\\ball_tree\\kd_tree\\brute,default=auto\n",
    "\n",
    "# RFclf.fit(X_train_all, y_train_cate)  # 0.66766\n",
    "MLPclf.fit(X_train_text_concat, y_train_cate) # 0.64666\n",
    "# RFclf.fit(X_train_without_text, y_train_cate)  # 0.68533\n",
    "\n",
    "# y_pred_test = RFclf.predict(X_test_all)\n",
    "y_pred_test = MLPclf.predict(X_test_text_concat)\n",
    "# y_pred_test = RFclf.predict(X_test_without_text)\n",
    "\n",
    "\n",
    "assert test.shape[0] == len(y_pred_test)\n",
    "test[\"rate_category\"] = y_pred_test\n",
    "\n",
    "print(classification_report(y_eval_cate, y_pred_test))\n"
   ]
  },
  {
   "cell_type": "markdown",
   "metadata": {},
   "source": [
    "Save as a file"
   ]
  },
  {
   "cell_type": "code",
   "execution_count": 47,
   "metadata": {},
   "outputs": [],
   "source": [
    "test_out = test[[\"id\", \"rate_category\"]]\n",
    "test_out.to_csv('Kaggle_Supervised_MLP.csv', index=False)"
   ]
  },
  {
   "cell_type": "markdown",
   "metadata": {},
   "source": [
    "## 7 RF Model tuning for RF\n",
    "n_estimators, max_feature, max_depth, min_sample_leaf"
   ]
  },
  {
   "cell_type": "code",
   "execution_count": 26,
   "metadata": {},
   "outputs": [],
   "source": [
    "# import numpy as np\n",
    "# import matplotlib.pyplot as plt\n",
    "# from sklearn.metrics import log_loss\n",
    "\n",
    "# # tuned_parameters = range(10, 200, 10)  # n_estimators=180\n",
    "# # tuned_parameters = range(5, 40, 5)  # max_features=20\n",
    "# # tuned_parameters = range(10, 100, 10)  # max_depth=30\n",
    "# # tuned_parameters = range(1, 20, 2)  # min_samples_leaf=9\n",
    "# tuned_parameters = range(1, 1000, 100)  # min_samples_leaf=\n",
    "\n",
    "# accuracy_t = np.zeros(len(tuned_parameters))\n",
    "# error_t = np.zeros(len(tuned_parameters))\n",
    "\n",
    "# for j, one_parameter in enumerate(tuned_parameters):\n",
    "#     RF2 = RandomForestClassifier(n_estimators=180,\n",
    "#                                  max_depth=30,\n",
    "#                                  max_features=20,\n",
    "#                                  min_samples_leaf=9,\n",
    "#                                  oob_score=True,\n",
    "#                                  random_state=one_parameter,\n",
    "#                                  n_jobs=-1)\n",
    "#     RF2.fit(X_train_without_text, y_train_cate)\n",
    "#     accuracy_t[j] = RF2.oob_score_\n",
    "#     y_pre = RF2.predict_proba(X_eval_without_text)\n",
    "#     error_t[j] = log_loss(y_eval_cate, y_pre, eps = 1e-15, normalize=True)\n",
    "\n",
    "#     # print(error_t)"
   ]
  },
  {
   "cell_type": "code",
   "execution_count": 27,
   "metadata": {},
   "outputs": [],
   "source": [
    "# fig,axes = plt.subplots(nrows=1, ncols=2, figsize=(20,4), dpi = 100)\n",
    "\n",
    "# axes[0].plot(tuned_parameters, error_t)\n",
    "# axes[1].plot(tuned_parameters, accuracy_t)\n",
    "\n",
    "# axes[0].set_xlabel(\"min_samples_leaf\")\n",
    "# axes[0].set_ylabel(\"error_t\")\n",
    "# axes[1].set_xlabel(\"min_samples_leaf\")\n",
    "# axes[1].set_ylabel(\"accuracy_t\")\n",
    "\n",
    "# axes[0].grid(True)\n",
    "# axes[1].grid(True)"
   ]
  },
  {
   "cell_type": "markdown",
   "metadata": {},
   "source": [
    "# 8 Ploting"
   ]
  },
  {
   "cell_type": "code",
   "execution_count": 28,
   "metadata": {},
   "outputs": [
    {
     "data": {
      "image/png": "[encoded data removed]",
      "text/plain": [
       "<Figure size 640x480 with 1 Axes>"
      ]
     },
     "metadata": {},
     "output_type": "display_data"
    }
   ],
   "source": [
    "import matplotlib.pyplot as plt\n",
    "import seaborn as sns\n",
    "\n",
    "# plt\n",
    "plt.plot(figsize=(6,4))\n",
    "x = [\"Accuracy\", \"Precision\", \"Recall\", \"F1 score\"]\n",
    "# y1 = [0.675, 0.772, 0.637, 0.677] \n",
    "# y2 = [0.672, 0.773, 0.635, 0.674]\n",
    "y1 = [0.547, 0.530, 0.525, 0.527] \n",
    "y2 = [0.550, 0.534, 0.527, 0.530] \n",
    "\n",
    "# plt.title(\"Comparision of supervised and semi-supervised RF model on All features\")\n",
    "plt.title(\"Comparision of supervised and semi-supervised MLP model on BoW\")\n",
    "plt.xlabel(\"Evaluation metrics\")\n",
    "plt.ylabel(\"Score of metrics\")\n",
    "line1 = plt.plot(x, y1, label='Supervised', marker='d', linewidth=2, color = 'r', alpha=0.5)\n",
    "line1 = plt.plot(x, y2, label='Semi-supervised', marker='*', linestyle='--', linewidth=2, color = 'b', alpha=0.5)\n",
    "\n",
    "for i, txt in enumerate(y1):\n",
    "    plt.annotate(txt, (x[i], y1[i]), textcoords=\"offset points\", xytext=(0,5), ha='center')\n",
    "for i, txt in enumerate(y2):\n",
    "    plt.annotate(txt, (x[i], y2[i]), textcoords=\"offset points\", xytext=(0,5), ha='center')\n",
    "\n",
    "\n",
    "plt.grid()\n",
    "plt.legend()\n",
    "plt.show()\n"
   ]
  },
  {
   "cell_type": "code",
   "execution_count": null,
   "metadata": {},
   "outputs": [],
   "source": []
  }
 ],
 "metadata": {
  "kernelspec": {
   "display_name": "Python 3 (ipykernel)",
   "language": "python",
   "name": "python3"
  },
  "language_info": {
   "codemirror_mode": {
    "name": "ipython",
    "version": 3
   },
   "file_extension": ".py",
   "mimetype": "text/x-python",
   "name": "python",
   "nbconvert_exporter": "python",
   "pygments_lexer": "ipython3",
   "version": "3.12.2"
  }
 },
 "nbformat": 4,
 "nbformat_minor": 4
}
